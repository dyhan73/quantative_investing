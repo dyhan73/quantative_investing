{
 "cells": [
  {
   "cell_type": "code",
   "execution_count": 569,
   "metadata": {
    "collapsed": true
   },
   "outputs": [],
   "source": [
    "import os\n",
    "import importlib\n",
    "from datetime import datetime, timedelta\n",
    "import calendar\n",
    "\n",
    "import pandas as pd\n",
    "import numpy as np\n",
    "\n",
    "import db_oper"
   ]
  },
  {
   "cell_type": "code",
   "execution_count": 570,
   "outputs": [
    {
     "name": "stdout",
     "output_type": "stream",
     "text": [
      "2018-07-20\n",
      "2019-07-20\n",
      "20190720\n"
     ]
    }
   ],
   "source": [
    "str_date = '20180720'\n",
    "dt_date = datetime.strptime(str_date, '%Y%m%d')\n",
    "print(dt_date.strftime('%Y-%m-%d'))\n",
    "\n",
    "dt_date2 = dt_date + timedelta(days=365)\n",
    "\n",
    "str_date2 = dt_date2.strftime('%Y%m%d')\n",
    "print(dt_date2.strftime('%Y-%m-%d'))\n",
    "print(str_date2)"
   ],
   "metadata": {
    "collapsed": false,
    "pycharm": {
     "name": "#%%\n"
    }
   }
  },
  {
   "cell_type": "code",
   "execution_count": 571,
   "outputs": [
    {
     "name": "stdout",
     "output_type": "stream",
     "text": [
      "<class 'str'>\n"
     ]
    }
   ],
   "source": [
    "# 시가총액 하위 20% 구하기\n",
    "sql = \"\"\"\n",
    "with\n",
    "price_date as (\n",
    "    select min(sdate) as sdate\n",
    "    from prices\n",
    "    where sdate >= %s\n",
    "),\n",
    "cnt as (\n",
    "    select count(*) as cnt from prices where sdate = (select sdate from price_date)\n",
    "),\n",
    "low20 as (\n",
    "    select * from prices\n",
    "    where sdate = (select sdate from price_date)\n",
    "    order by calc_market_cap\n",
    "    limit cast((select cnt from cnt) * 0.2 as int)\n",
    "),\n",
    "rep_date_latest as (\n",
    "    select max(rdate) as rdate from reports where rdate < (select sdate from price_date)\n",
    "),\n",
    "rep_date as (\n",
    "    select max(rdate) as rdate from reports where rdate < (select rdate from rep_date_latest)\n",
    "),\n",
    "reps as (\n",
    "    select *\n",
    "    from reports where rdate = (select rdate from rep_date)\n",
    "),\n",
    "candidates as (\n",
    "    select p.code, c.company, p.sdate, p.close, p.calc_market_cap, p.per, p.psr, p.pcr, p.pbr, r.roa, r.gpa, r.debt_to_equity_ratio\n",
    "    from low20 p\n",
    "    join reps r on p.code = r.code\n",
    "    join companies c on p.code = c.code\n",
    "    where per is not null and per > 0\n",
    ")\n",
    "select * from candidates\n",
    "\"\"\" % str_date\n",
    "\n",
    "print(type(sql))\n",
    "low20 = db_oper.select_by_query(sql)\n",
    "# low20.head()"
   ],
   "metadata": {
    "collapsed": false,
    "pycharm": {
     "name": "#%%\n"
    }
   }
  },
  {
   "cell_type": "code",
   "execution_count": 572,
   "outputs": [],
   "source": [
    "# 각 지표 Ranking 구하기\n",
    "low20['PER_Rank'] = low20['per'].rank(method='max')\n",
    "low20['PSR_Rank'] = low20['psr'].rank(method='max')\n",
    "low20['PCR_Rank'] = low20['pcr'].rank(method='max')\n",
    "low20['PBR_Rank'] = low20['pbr'].rank(method='max')\n",
    "low20['ROA_Rank'] = low20['roa'].rank(method='max', ascending=False)\n",
    "low20['GPA_Rank'] = low20['gpa'].rank(method='max', ascending=False)\n",
    "low20['s_value'] = low20['PER_Rank'] + low20['PSR_Rank'] + low20['PCR_Rank'] + low20['PBR_Rank'] # 슈퍼가치전략\n",
    "low20['PBRGPA'] = low20['PBR_Rank'] + low20['GPA_Rank'] # 신마법공식\n",
    "low20['s_v_m'] = low20['PER_Rank'] + low20['PSR_Rank'] + low20['PBR_Rank'] + low20['GPA_Rank'] # 슈퍼밸류모멘텀"
   ],
   "metadata": {
    "collapsed": false,
    "pycharm": {
     "name": "#%%\n"
    }
   }
  },
  {
   "cell_type": "code",
   "execution_count": 573,
   "outputs": [
    {
     "data": {
      "text/plain": "126"
     },
     "execution_count": 573,
     "metadata": {},
     "output_type": "execute_result"
    }
   ],
   "source": [
    "len(low20)"
   ],
   "metadata": {
    "collapsed": false,
    "pycharm": {
     "name": "#%%\n"
    }
   }
  },
  {
   "cell_type": "code",
   "execution_count": 574,
   "outputs": [],
   "source": [
    "# 슈퍼가치전략\n",
    "super_values = low20.sort_values(['s_value']).head(50)\n",
    "\n",
    "# 신마법공식 2.0\n",
    "magic = low20.sort_values(['PBRGPA']).head(30)\n",
    "# 슈퍼밸류모멘텀\n",
    "svm = low20.sort_values(['s_v_m']).head(50)\n",
    "\n",
    "# # 그레이엄 마지막 선물 업그레이드 (야는 하위 20%가 아니얌)\n",
    "# graham2 =low20[low20['debt_to_equity_ratio'] < 50]\n",
    "# graham2 = graham2[graham2['roa'] < 5]\n",
    "# graham2 = graham2[graham2['pbr'] >= 0.2]\n",
    "# graham2 = graham2.sort_values(['PBR_Rank']).head(30)"
   ],
   "metadata": {
    "collapsed": false,
    "pycharm": {
     "name": "#%%\n"
    }
   }
  },
  {
   "cell_type": "code",
   "execution_count": 575,
   "outputs": [],
   "source": [
    "sql = \"\"\"\n",
    "with\n",
    "price_date as (\n",
    "    select min(sdate) as sdate\n",
    "    from prices\n",
    "    where sdate >= '%s'\n",
    "    group by sdate\n",
    "    having count(*) > 1000\n",
    ")\n",
    "\n",
    "select code, sdate, close\n",
    "from prices\n",
    "where sdate = (select sdate from price_date)\n",
    "    and code in ('%s')\n",
    "\"\"\" % (str_date2, \"','\".join(super_values.code))\n",
    "sval_next = db_oper.select_by_query(sql)\n",
    "# sval_next.head()"
   ],
   "metadata": {
    "collapsed": false,
    "pycharm": {
     "name": "#%%\n"
    }
   }
  },
  {
   "cell_type": "code",
   "execution_count": 576,
   "outputs": [],
   "source": [
    "sval_rslt = super_values.merge(sval_next, how='left', on='code', suffixes=['', '_1'])"
   ],
   "metadata": {
    "collapsed": false,
    "pycharm": {
     "name": "#%%\n"
    }
   }
  },
  {
   "cell_type": "code",
   "execution_count": 577,
   "outputs": [],
   "source": [
    "# sval_rslt.head()"
   ],
   "metadata": {
    "collapsed": false,
    "pycharm": {
     "name": "#%%\n"
    }
   }
  },
  {
   "cell_type": "code",
   "execution_count": 578,
   "outputs": [],
   "source": [
    "sval_rslt = sval_rslt[['code', 'company', 'close', 'close_1']]\n",
    "sval_rslt['stock_cnt'] = 10000000 / len(sval_rslt) / sval_rslt['close']\n",
    "sval_rslt['buy'] = sval_rslt['stock_cnt'] * sval_rslt['close']\n",
    "sval_rslt['sell'] = sval_rslt['stock_cnt'] * sval_rslt['close_1']\n",
    "sval_rslt['gain'] = sval_rslt['sell'] - sval_rslt['buy']"
   ],
   "metadata": {
    "collapsed": false,
    "pycharm": {
     "name": "#%%\n"
    }
   }
  },
  {
   "cell_type": "code",
   "execution_count": 579,
   "outputs": [],
   "source": [
    "# sval_rslt.head()"
   ],
   "metadata": {
    "collapsed": false,
    "pycharm": {
     "name": "#%%\n"
    }
   }
  },
  {
   "cell_type": "code",
   "execution_count": 580,
   "outputs": [
    {
     "name": "stdout",
     "output_type": "stream",
     "text": [
      "buy :  10,000,000.0\n",
      "sell :  10,763,361.876409758\n",
      "gain :  1,163,361.8764097593\n"
     ]
    }
   ],
   "source": [
    "print('buy : ', '{:,}'.format(sval_rslt['buy'].sum()))\n",
    "print('sell : ', '{:,}'.format(sval_rslt['sell'].sum()))\n",
    "print('gain : ', '{:,}'.format(sval_rslt['gain'].sum()))"
   ],
   "metadata": {
    "collapsed": false,
    "pycharm": {
     "name": "#%%\n"
    }
   }
  },
  {
   "cell_type": "code",
   "execution_count": 580,
   "outputs": [],
   "source": [
    "\n"
   ],
   "metadata": {
    "collapsed": false,
    "pycharm": {
     "name": "#%%\n"
    }
   }
  }
 ],
 "metadata": {
  "kernelspec": {
   "name": "python3",
   "language": "python",
   "display_name": "Python 3"
  },
  "language_info": {
   "codemirror_mode": {
    "name": "ipython",
    "version": 2
   },
   "file_extension": ".py",
   "mimetype": "text/x-python",
   "name": "python",
   "nbconvert_exporter": "python",
   "pygments_lexer": "ipython2",
   "version": "2.7.6"
  }
 },
 "nbformat": 4,
 "nbformat_minor": 0
}