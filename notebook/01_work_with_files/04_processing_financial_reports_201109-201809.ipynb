{
 "cells": [
  {
   "cell_type": "code",
   "execution_count": 1,
   "metadata": {},
   "outputs": [],
   "source": [
    "import os\n",
    "import sys\n",
    "import sqlite3\n",
    "import pandas as pd\n",
    "import numpy as np\n",
    "import re"
   ]
  },
  {
   "cell_type": "code",
   "execution_count": 2,
   "metadata": {},
   "outputs": [],
   "source": [
    "# 제무제표 항목명과 DB 필드명 매핑\n",
    "dic_reports = {\n",
    "    '코드': 'code',\n",
    "    '종목코드': 'code',\n",
    "    '자산총계': 'total_assets',\n",
    "    '유동자산': 'current_assets',\n",
    "    '부채총계': 'total_liabilities',\n",
    "    '자본총계': 'total_equity',\n",
    "    '매출액': 'net_sales',\n",
    "    '매출원가': 'cost_of_sales',\n",
    "    '매출총이익': 'gross_profit',\n",
    "    '발표영업이익': 'operating_income',\n",
    "    '영업이익': 'operating_income',\n",
    "    '순이익': 'ongoing_operating_income',\n",
    "    '당기순이익': 'ongoing_operating_income',\n",
    "    '반기순이익': 'ongoing_operating_income',\n",
    "    '분기순이익': 'ongoing_operating_income',\n",
    "    '영업현금흐름': 'cash_flows_from_operatings',\n",
    "    '유동비율': 'current_ratio',\n",
    "    '부채비율': 'debt_to_equity_ratio'\n",
    "}\n",
    "\n",
    "dic_companies = {\n",
    "    '코드': 'code',\n",
    "    '종목코드': 'code',\n",
    "    '시장': 'market',\n",
    "    '회사명': 'company',\n",
    "    '종목명': 'company',\n",
    "    '산업코드': 'ind_code',\n",
    "    '산업명': 'industry'\n",
    "}\n",
    "# tuple(dic_reports.keys()) + tuple(dic_companies.keys())\n",
    "# print(type(dic_reports.keys()))"
   ]
  },
  {
   "cell_type": "code",
   "execution_count": 3,
   "metadata": {},
   "outputs": [
    {
     "name": "stdout",
     "output_type": "stream",
     "text": [
      "dict_keys(['제조(별도-개별)', '제조(연결)', '금융(별도-개별)', '금융(연결)'])\n",
      "Index(['코드', '회사명', '시장', '업종', '산업명', '매출액(201712)3개월', '매출액(201712)누적',\n",
      "       '매출액(201709)3개월', '매출액(201709)', '매출액(201706)',\n",
      "       ...\n",
      "       '자본총계(201712)누적', '자본총계(201709)', '자본총계(201706)', '자본총계(201703)',\n",
      "       '자본총계(201612)', '지배주주지분(201712)누적', '지배주주지분(201709)', '지배주주지분(201706)',\n",
      "       '지배주주지분(201703)', '지배주주지분(201612)'],\n",
      "      dtype='object', length=182)\n",
      "['코드', '회사명', '시장', '산업명', '발표영업이익률', '순이익률', '매출액(201712)누적', '매출원가(201712)누적', '매출총이익(201712)누적', '발표영업이익(201712)누적', '순이익(201712)누적', '유동비율(201712)', '부채비율(201712)', '자산총계(201712)누적', '유동자산(201712)누적', '부채총계(201712)누적', '자본총계(201712)누적']\n",
      "1496\n"
     ]
    }
   ],
   "source": [
    "## 201109~201809 까지 유효\n",
    "yyyy = '2017'\n",
    "mm = '12'\n",
    "\n",
    "# 해당 분기 폴더에 대상 파일 리스트 가져옴 (11년 실적월 별 파일 여러개임)\n",
    "f_path = '../data/financial_reports/%s년%s월확정실적'%(yyyy, mm)\n",
    "files = [f for f in os.listdir(f_path) if os.path.isfile(os.path.join(f_path, f))]\n",
    "files = [f for f in files if 'Eng' not in f and 'Rank' not in f and 'ENG' not in f and '영문' not in f and 'hwp' not in f and 'txt' not in f]\n",
    "files\n",
    "\n",
    "# 일단 첫번째 파일만 처리 (여러파일 처리는 따로..)\n",
    "report_list = pd.read_excel('%s/%s'%(f_path, files[0]), sheet_name=None)\n",
    "print(report_list.keys())\n",
    "\n",
    "# 여러개 탭 처리하게 수정 필요 (일단 제조-연결만 처리)\n",
    "reports = report_list['제조(연결)']\n",
    "# reports = report_list['제조(별도-개별)']\n",
    "reports.columns = [str.strip(re.sub('\\n', '', t)) for t in reports.keys()]\n",
    "print(reports.keys())\n",
    "\n",
    "# 필요한 필드만 추출\n",
    "# cols = ('시장', '코드', '회사명', '산업명', '자산총계', '유동자산', '자본총계', '부채총계', '매출액', '매출원가', '매출총이익',\n",
    "#         '발표영업이익', '순이익', '분기순이익', '당기순이익', '반기순이익', '영업활동으로인한현금흐름', '부채비율', '유동비율', '자기자본비율')\n",
    "cols = tuple(dic_reports.keys()) + tuple(dic_companies.keys())\n",
    "reports = reports[[k for k in reports.keys() if k.startswith(cols) and '3개월' not in k]]\n",
    "cols = [k for k in reports.keys() if '(' not in k]\n",
    "cols = cols + [k for k in reports.keys() if '%s%s'%(yyyy, mm) in k]\n",
    "reports = reports[cols]\n",
    "print(cols)\n",
    "reports['코드'] = reports['코드'].str[1:]\n",
    "reports = reports[~reports['회사명'].str.contains('스팩')]\n",
    "reports = reports[~reports['회사명'].str.endswith('우')]\n",
    "reports = reports[~reports['회사명'].str.endswith('우B')]\n",
    "\n",
    "# 필드명 정제\n",
    "cols = reports.keys()\n",
    "cols = [re.sub('누적', '', k) for k in cols] # (보고서기재) 제거\n",
    "cols = [re.sub('\\(%s%s\\)'%(yyyy, mm), '', k) for k in cols]\n",
    "# cols = [re.sub('^.*순이익', '순이익', k) for k in cols]\n",
    "reports.columns = cols\n",
    "reports_length = len(reports)\n",
    "print(reports_length)"
   ]
  },
  {
   "cell_type": "code",
   "execution_count": 4,
   "metadata": {},
   "outputs": [
    {
     "data": {
      "text/html": [
       "<div>\n",
       "<style scoped>\n",
       "    .dataframe tbody tr th:only-of-type {\n",
       "        vertical-align: middle;\n",
       "    }\n",
       "\n",
       "    .dataframe tbody tr th {\n",
       "        vertical-align: top;\n",
       "    }\n",
       "\n",
       "    .dataframe thead th {\n",
       "        text-align: right;\n",
       "    }\n",
       "</style>\n",
       "<table border=\"1\" class=\"dataframe\">\n",
       "  <thead>\n",
       "    <tr style=\"text-align: right;\">\n",
       "      <th></th>\n",
       "      <th>코드</th>\n",
       "      <th>회사명</th>\n",
       "      <th>시장</th>\n",
       "      <th>산업명</th>\n",
       "      <th>발표영업이익률</th>\n",
       "      <th>순이익률</th>\n",
       "      <th>매출액</th>\n",
       "      <th>매출원가</th>\n",
       "      <th>매출총이익</th>\n",
       "      <th>발표영업이익</th>\n",
       "      <th>순이익</th>\n",
       "      <th>유동비율</th>\n",
       "      <th>부채비율</th>\n",
       "      <th>자산총계</th>\n",
       "      <th>유동자산</th>\n",
       "      <th>부채총계</th>\n",
       "      <th>자본총계</th>\n",
       "    </tr>\n",
       "  </thead>\n",
       "  <tbody>\n",
       "    <tr>\n",
       "      <th>0</th>\n",
       "      <td>000040</td>\n",
       "      <td>케이알모터스(주)</td>\n",
       "      <td>거래소</td>\n",
       "      <td>기타 운송장비 제조업</td>\n",
       "      <td>-62.483075</td>\n",
       "      <td>-75.611894</td>\n",
       "      <td>41661.895</td>\n",
       "      <td>50298.745</td>\n",
       "      <td>-8636.85</td>\n",
       "      <td>-26031.633</td>\n",
       "      <td>-31501.348</td>\n",
       "      <td>96.713002</td>\n",
       "      <td>139.804254</td>\n",
       "      <td>108443.184</td>\n",
       "      <td>43267.628</td>\n",
       "      <td>63221.641</td>\n",
       "      <td>45221.543</td>\n",
       "    </tr>\n",
       "  </tbody>\n",
       "</table>\n",
       "</div>"
      ],
      "text/plain": [
       "       코드        회사명   시장          산업명    발표영업이익률       순이익률        매출액  \\\n",
       "0  000040  케이알모터스(주)  거래소  기타 운송장비 제조업 -62.483075 -75.611894  41661.895   \n",
       "\n",
       "        매출원가    매출총이익     발표영업이익        순이익       유동비율        부채비율  \\\n",
       "0  50298.745 -8636.85 -26031.633 -31501.348  96.713002  139.804254   \n",
       "\n",
       "         자산총계       유동자산       부채총계       자본총계  \n",
       "0  108443.184  43267.628  63221.641  45221.543  "
      ]
     },
     "execution_count": 4,
     "metadata": {},
     "output_type": "execute_result"
    }
   ],
   "source": [
    "reports.head(1)"
   ]
  },
  {
   "cell_type": "code",
   "execution_count": 5,
   "metadata": {},
   "outputs": [
    {
     "data": {
      "text/plain": [
       "Index(['코드', '회사명', '시장', '산업명', '발표영업이익률', '순이익률', '매출액', '매출원가', '매출총이익',\n",
       "       '발표영업이익', '순이익', '유동비율', '부채비율', '자산총계', '유동자산', '부채총계', '자본총계'],\n",
       "      dtype='object')"
      ]
     },
     "execution_count": 5,
     "metadata": {},
     "output_type": "execute_result"
    }
   ],
   "source": [
    "reports.keys()"
   ]
  },
  {
   "cell_type": "code",
   "execution_count": 6,
   "metadata": {},
   "outputs": [],
   "source": [
    "# company 기본정보 추출\n",
    "companies = reports[['코드', '시장', '회사명', '산업명']]\n",
    "companies.columns = ['code', 'market', 'company', 'industry']\n",
    "companies.head()\n",
    "companies_length = len(companies)"
   ]
  },
  {
   "cell_type": "code",
   "execution_count": 7,
   "metadata": {},
   "outputs": [
    {
     "name": "stdout",
     "output_type": "stream",
     "text": [
      "[(0,)]\n"
     ]
    }
   ],
   "source": [
    "# 인서트 전 row 수\n",
    "conn = sqlite3.connect(\"../database/quantative_investing.db\")\n",
    "cur = conn.cursor()\n",
    "cur.execute(\"select count(*) from companies\")\n",
    "rows = cur.fetchall()\n",
    "cur.close()\n",
    "conn.close()\n",
    "companies_db_before = rows[0][0]\n",
    "print(rows)"
   ]
  },
  {
   "cell_type": "code",
   "execution_count": 8,
   "metadata": {},
   "outputs": [],
   "source": [
    "# company 정보 DB Insert\n",
    "conn = sqlite3.connect(\"../database/quantative_investing.db\")\n",
    "for idx, company in companies.iterrows():\n",
    "    columns = ', '.join(company.keys())\n",
    "    placeholders = ', '.join('?' * len(company.values))\n",
    "    sql = 'INSERT INTO companies ({}) VALUES ({})'.format(columns, placeholders)\n",
    "    \n",
    "    try:\n",
    "        conn.execute(sql, company.values)\n",
    "    except sqlite3.IntegrityError:\n",
    "        pass # 이미 인서트되어 발생하는 오류 무시\n",
    "    except:\n",
    "        print(sys.exc_info())\n",
    "        pass\n",
    "conn.commit()\n",
    "conn.close()"
   ]
  },
  {
   "cell_type": "code",
   "execution_count": 9,
   "metadata": {},
   "outputs": [
    {
     "name": "stdout",
     "output_type": "stream",
     "text": [
      "[(0,)]\n"
     ]
    }
   ],
   "source": [
    "conn = sqlite3.connect(\"../database/quantative_investing.db\")\n",
    "cur = conn.cursor()\n",
    "cur.execute(\"select count(*) from companies\")\n",
    "rows = cur.fetchall()\n",
    "cur.close()\n",
    "conn.close()\n",
    "companies_db_after = rows[0][0]\n",
    "print(rows)"
   ]
  },
  {
   "cell_type": "code",
   "execution_count": 10,
   "metadata": {},
   "outputs": [
    {
     "data": {
      "text/plain": [
       "Index(['코드', '회사명', '시장', '산업명', '발표영업이익률', '순이익률', '매출액', '매출원가', '매출총이익',\n",
       "       '발표영업이익', '순이익', '유동비율', '부채비율', '자산총계', '유동자산', '부채총계', '자본총계'],\n",
       "      dtype='object')"
      ]
     },
     "execution_count": 10,
     "metadata": {},
     "output_type": "execute_result"
    }
   ],
   "source": [
    "reports.keys()"
   ]
  },
  {
   "cell_type": "code",
   "execution_count": 11,
   "metadata": {
    "scrolled": false
   },
   "outputs": [
    {
     "name": "stdout",
     "output_type": "stream",
     "text": [
      "['코드', '회사명', '시장', '산업명', '발표영업이익률', '순이익률', '매출액', '매출원가', '매출총이익', '발표영업이익', '순이익', '유동비율', '부채비율', '자산총계', '유동자산', '부채총계', '자본총계']\n",
      "['code', '회사명', '시장', '산업명', '발표영업이익률', '순이익률', 'net_sales', 'cost_of_sales', 'gross_profit', 'operating_income', 'ongoing_operating_income', 'current_ratio', 'debt_to_equity_ratio', 'total_assets', 'current_assets', 'total_liabilities', 'total_equity']\n"
     ]
    },
    {
     "data": {
      "text/html": [
       "<div>\n",
       "<style scoped>\n",
       "    .dataframe tbody tr th:only-of-type {\n",
       "        vertical-align: middle;\n",
       "    }\n",
       "\n",
       "    .dataframe tbody tr th {\n",
       "        vertical-align: top;\n",
       "    }\n",
       "\n",
       "    .dataframe thead th {\n",
       "        text-align: right;\n",
       "    }\n",
       "</style>\n",
       "<table border=\"1\" class=\"dataframe\">\n",
       "  <thead>\n",
       "    <tr style=\"text-align: right;\">\n",
       "      <th></th>\n",
       "      <th>code</th>\n",
       "      <th>net_sales</th>\n",
       "      <th>cost_of_sales</th>\n",
       "      <th>gross_profit</th>\n",
       "      <th>operating_income</th>\n",
       "      <th>ongoing_operating_income</th>\n",
       "      <th>current_ratio</th>\n",
       "      <th>debt_to_equity_ratio</th>\n",
       "      <th>total_assets</th>\n",
       "      <th>current_assets</th>\n",
       "      <th>total_liabilities</th>\n",
       "      <th>total_equity</th>\n",
       "    </tr>\n",
       "  </thead>\n",
       "  <tbody>\n",
       "    <tr>\n",
       "      <th>0</th>\n",
       "      <td>000040</td>\n",
       "      <td>41661.895</td>\n",
       "      <td>50298.745</td>\n",
       "      <td>-8636.850</td>\n",
       "      <td>-26031.633</td>\n",
       "      <td>-31501.348</td>\n",
       "      <td>96.713002</td>\n",
       "      <td>139.804254</td>\n",
       "      <td>108443.184</td>\n",
       "      <td>43267.628</td>\n",
       "      <td>63221.641</td>\n",
       "      <td>45221.543</td>\n",
       "    </tr>\n",
       "    <tr>\n",
       "      <th>1</th>\n",
       "      <td>000050</td>\n",
       "      <td>360788.750</td>\n",
       "      <td>253442.168</td>\n",
       "      <td>107346.582</td>\n",
       "      <td>42309.232</td>\n",
       "      <td>25315.361</td>\n",
       "      <td>28.250804</td>\n",
       "      <td>82.231461</td>\n",
       "      <td>1274042.237</td>\n",
       "      <td>90254.697</td>\n",
       "      <td>574908.164</td>\n",
       "      <td>699134.073</td>\n",
       "    </tr>\n",
       "    <tr>\n",
       "      <th>2</th>\n",
       "      <td>000070</td>\n",
       "      <td>2396290.235</td>\n",
       "      <td>1974916.010</td>\n",
       "      <td>421374.225</td>\n",
       "      <td>98828.147</td>\n",
       "      <td>67186.351</td>\n",
       "      <td>208.171413</td>\n",
       "      <td>68.965299</td>\n",
       "      <td>3261056.035</td>\n",
       "      <td>1132120.433</td>\n",
       "      <td>1331040.788</td>\n",
       "      <td>1930015.247</td>\n",
       "    </tr>\n",
       "    <tr>\n",
       "      <th>3</th>\n",
       "      <td>000080</td>\n",
       "      <td>1889910.216</td>\n",
       "      <td>1086067.409</td>\n",
       "      <td>803842.808</td>\n",
       "      <td>87249.749</td>\n",
       "      <td>12735.966</td>\n",
       "      <td>64.720007</td>\n",
       "      <td>188.096027</td>\n",
       "      <td>3507595.838</td>\n",
       "      <td>1110999.896</td>\n",
       "      <td>2290086.565</td>\n",
       "      <td>1217509.273</td>\n",
       "    </tr>\n",
       "    <tr>\n",
       "      <th>4</th>\n",
       "      <td>000100</td>\n",
       "      <td>1462248.030</td>\n",
       "      <td>1037623.911</td>\n",
       "      <td>424624.119</td>\n",
       "      <td>88709.620</td>\n",
       "      <td>109636.659</td>\n",
       "      <td>387.064773</td>\n",
       "      <td>30.401596</td>\n",
       "      <td>2094673.424</td>\n",
       "      <td>1069512.906</td>\n",
       "      <td>488348.428</td>\n",
       "      <td>1606324.995</td>\n",
       "    </tr>\n",
       "  </tbody>\n",
       "</table>\n",
       "</div>"
      ],
      "text/plain": [
       "     code    net_sales  cost_of_sales  gross_profit  operating_income  \\\n",
       "0  000040    41661.895      50298.745     -8636.850        -26031.633   \n",
       "1  000050   360788.750     253442.168    107346.582         42309.232   \n",
       "2  000070  2396290.235    1974916.010    421374.225         98828.147   \n",
       "3  000080  1889910.216    1086067.409    803842.808         87249.749   \n",
       "4  000100  1462248.030    1037623.911    424624.119         88709.620   \n",
       "\n",
       "   ongoing_operating_income  current_ratio  debt_to_equity_ratio  \\\n",
       "0                -31501.348      96.713002            139.804254   \n",
       "1                 25315.361      28.250804             82.231461   \n",
       "2                 67186.351     208.171413             68.965299   \n",
       "3                 12735.966      64.720007            188.096027   \n",
       "4                109636.659     387.064773             30.401596   \n",
       "\n",
       "   total_assets  current_assets  total_liabilities  total_equity  \n",
       "0    108443.184       43267.628          63221.641     45221.543  \n",
       "1   1274042.237       90254.697         574908.164    699134.073  \n",
       "2   3261056.035     1132120.433        1331040.788   1930015.247  \n",
       "3   3507595.838     1110999.896        2290086.565   1217509.273  \n",
       "4   2094673.424     1069512.906         488348.428   1606324.995  "
      ]
     },
     "execution_count": 11,
     "metadata": {},
     "output_type": "execute_result"
    }
   ],
   "source": [
    "# DB 필드명과 동일하게 DF 필드명 변경\n",
    "keys = reports.keys()\n",
    "print(list(keys))\n",
    "keys2 = [dic_reports[k] if k in dic_reports else k for k in keys ]\n",
    "print(keys2)\n",
    "reports.columns = keys2\n",
    "reports = reports[[k for k in reports.keys() if k in dic_reports.values()]]\n",
    "reports.head()"
   ]
  },
  {
   "cell_type": "code",
   "execution_count": 12,
   "metadata": {},
   "outputs": [
    {
     "data": {
      "text/html": [
       "<div>\n",
       "<style scoped>\n",
       "    .dataframe tbody tr th:only-of-type {\n",
       "        vertical-align: middle;\n",
       "    }\n",
       "\n",
       "    .dataframe tbody tr th {\n",
       "        vertical-align: top;\n",
       "    }\n",
       "\n",
       "    .dataframe thead th {\n",
       "        text-align: right;\n",
       "    }\n",
       "</style>\n",
       "<table border=\"1\" class=\"dataframe\">\n",
       "  <thead>\n",
       "    <tr style=\"text-align: right;\">\n",
       "      <th></th>\n",
       "      <th>code</th>\n",
       "      <th>rdate</th>\n",
       "      <th>net_sales</th>\n",
       "      <th>cost_of_sales</th>\n",
       "      <th>gross_profit</th>\n",
       "      <th>operating_income</th>\n",
       "      <th>ongoing_operating_income</th>\n",
       "      <th>current_ratio</th>\n",
       "      <th>debt_to_equity_ratio</th>\n",
       "      <th>total_assets</th>\n",
       "      <th>current_assets</th>\n",
       "      <th>total_liabilities</th>\n",
       "      <th>total_equity</th>\n",
       "    </tr>\n",
       "  </thead>\n",
       "  <tbody>\n",
       "    <tr>\n",
       "      <th>0</th>\n",
       "      <td>000040</td>\n",
       "      <td>20171231</td>\n",
       "      <td>41661.895</td>\n",
       "      <td>50298.745</td>\n",
       "      <td>-8636.850</td>\n",
       "      <td>-26031.633</td>\n",
       "      <td>-31501.348</td>\n",
       "      <td>96.713002</td>\n",
       "      <td>139.804254</td>\n",
       "      <td>108443.184</td>\n",
       "      <td>43267.628</td>\n",
       "      <td>63221.641</td>\n",
       "      <td>45221.543</td>\n",
       "    </tr>\n",
       "    <tr>\n",
       "      <th>1</th>\n",
       "      <td>000050</td>\n",
       "      <td>20171231</td>\n",
       "      <td>360788.750</td>\n",
       "      <td>253442.168</td>\n",
       "      <td>107346.582</td>\n",
       "      <td>42309.232</td>\n",
       "      <td>25315.361</td>\n",
       "      <td>28.250804</td>\n",
       "      <td>82.231461</td>\n",
       "      <td>1274042.237</td>\n",
       "      <td>90254.697</td>\n",
       "      <td>574908.164</td>\n",
       "      <td>699134.073</td>\n",
       "    </tr>\n",
       "    <tr>\n",
       "      <th>2</th>\n",
       "      <td>000070</td>\n",
       "      <td>20171231</td>\n",
       "      <td>2396290.235</td>\n",
       "      <td>1974916.010</td>\n",
       "      <td>421374.225</td>\n",
       "      <td>98828.147</td>\n",
       "      <td>67186.351</td>\n",
       "      <td>208.171413</td>\n",
       "      <td>68.965299</td>\n",
       "      <td>3261056.035</td>\n",
       "      <td>1132120.433</td>\n",
       "      <td>1331040.788</td>\n",
       "      <td>1930015.247</td>\n",
       "    </tr>\n",
       "    <tr>\n",
       "      <th>3</th>\n",
       "      <td>000080</td>\n",
       "      <td>20171231</td>\n",
       "      <td>1889910.216</td>\n",
       "      <td>1086067.409</td>\n",
       "      <td>803842.808</td>\n",
       "      <td>87249.749</td>\n",
       "      <td>12735.966</td>\n",
       "      <td>64.720007</td>\n",
       "      <td>188.096027</td>\n",
       "      <td>3507595.838</td>\n",
       "      <td>1110999.896</td>\n",
       "      <td>2290086.565</td>\n",
       "      <td>1217509.273</td>\n",
       "    </tr>\n",
       "    <tr>\n",
       "      <th>4</th>\n",
       "      <td>000100</td>\n",
       "      <td>20171231</td>\n",
       "      <td>1462248.030</td>\n",
       "      <td>1037623.911</td>\n",
       "      <td>424624.119</td>\n",
       "      <td>88709.620</td>\n",
       "      <td>109636.659</td>\n",
       "      <td>387.064773</td>\n",
       "      <td>30.401596</td>\n",
       "      <td>2094673.424</td>\n",
       "      <td>1069512.906</td>\n",
       "      <td>488348.428</td>\n",
       "      <td>1606324.995</td>\n",
       "    </tr>\n",
       "  </tbody>\n",
       "</table>\n",
       "</div>"
      ],
      "text/plain": [
       "     code     rdate    net_sales  cost_of_sales  gross_profit  \\\n",
       "0  000040  20171231    41661.895      50298.745     -8636.850   \n",
       "1  000050  20171231   360788.750     253442.168    107346.582   \n",
       "2  000070  20171231  2396290.235    1974916.010    421374.225   \n",
       "3  000080  20171231  1889910.216    1086067.409    803842.808   \n",
       "4  000100  20171231  1462248.030    1037623.911    424624.119   \n",
       "\n",
       "   operating_income  ongoing_operating_income  current_ratio  \\\n",
       "0        -26031.633                -31501.348      96.713002   \n",
       "1         42309.232                 25315.361      28.250804   \n",
       "2         98828.147                 67186.351     208.171413   \n",
       "3         87249.749                 12735.966      64.720007   \n",
       "4         88709.620                109636.659     387.064773   \n",
       "\n",
       "   debt_to_equity_ratio  total_assets  current_assets  total_liabilities  \\\n",
       "0            139.804254    108443.184       43267.628          63221.641   \n",
       "1             82.231461   1274042.237       90254.697         574908.164   \n",
       "2             68.965299   3261056.035     1132120.433        1331040.788   \n",
       "3            188.096027   3507595.838     1110999.896        2290086.565   \n",
       "4             30.401596   2094673.424     1069512.906         488348.428   \n",
       "\n",
       "   total_equity  \n",
       "0     45221.543  \n",
       "1    699134.073  \n",
       "2   1930015.247  \n",
       "3   1217509.273  \n",
       "4   1606324.995  "
      ]
     },
     "execution_count": 12,
     "metadata": {},
     "output_type": "execute_result"
    }
   ],
   "source": [
    "reports.insert(1, 'rdate', '%s%s31'%(yyyy, mm))\n",
    "reports.head()"
   ]
  },
  {
   "cell_type": "code",
   "execution_count": 13,
   "metadata": {},
   "outputs": [
    {
     "data": {
      "text/plain": [
       "1496"
      ]
     },
     "execution_count": 13,
     "metadata": {},
     "output_type": "execute_result"
    }
   ],
   "source": [
    "len(reports)"
   ]
  },
  {
   "cell_type": "code",
   "execution_count": 14,
   "metadata": {},
   "outputs": [
    {
     "name": "stdout",
     "output_type": "stream",
     "text": [
      "0\n"
     ]
    }
   ],
   "source": [
    "conn = sqlite3.connect(\"../database/quantative_investing.db\")\n",
    "cur = conn.cursor()\n",
    "cur.execute(\"select count(*) from reports\")\n",
    "rows = cur.fetchall()\n",
    "cur.close()\n",
    "conn.close()\n",
    "reports_db_before = rows[0][0]\n",
    "print(reports_db_before)"
   ]
  },
  {
   "cell_type": "code",
   "execution_count": 15,
   "metadata": {},
   "outputs": [],
   "source": [
    "# company 정보 DB Insert\n",
    "conn = sqlite3.connect(\"../database/quantative_investing.db\")\n",
    "for idx, report in reports.iterrows():\n",
    "    columns = ', '.join(report.keys())\n",
    "    placeholders = ', '.join('?' * len(report.values))\n",
    "    sql = 'INSERT INTO reports ({}) VALUES ({})'.format(columns, placeholders)\n",
    "    \n",
    "    try:\n",
    "        conn.execute(sql, report.values)\n",
    "    except sqlite3.IntegrityError:\n",
    "        pass # 이미 인서트되어 발생하는 오류 무시\n",
    "    except:\n",
    "        print(sys.exc_info())\n",
    "        pass\n",
    "conn.commit()\n",
    "conn.close()"
   ]
  },
  {
   "cell_type": "code",
   "execution_count": 16,
   "metadata": {},
   "outputs": [
    {
     "data": {
      "text/plain": [
       "1496"
      ]
     },
     "execution_count": 16,
     "metadata": {},
     "output_type": "execute_result"
    }
   ],
   "source": [
    "conn = sqlite3.connect(\"../database/quantative_investing.db\")\n",
    "cur = conn.cursor()\n",
    "cur.execute(\"select count(*) from reports\")\n",
    "rows = cur.fetchall()\n",
    "cur.close()\n",
    "conn.close()\n",
    "reports_db_after = rows[0][0]\n",
    "reports_db_after"
   ]
  },
  {
   "cell_type": "code",
   "execution_count": 17,
   "metadata": {},
   "outputs": [
    {
     "name": "stdout",
     "output_type": "stream",
     "text": [
      "companies_length : 1496\n",
      "companies_db_before : 0\n",
      "companies_db_after : 0 (0 added)\n",
      "reports_length : 1496\n",
      "reports_db_before : 0\n",
      "reports_db_after : 1496 (1496 added)\n"
     ]
    }
   ],
   "source": [
    "# summary\n",
    "\n",
    "print('companies_length : %s'%companies_length)\n",
    "print('companies_db_before : %s'%companies_db_before)\n",
    "print('companies_db_after : %s (%s added)'%(companies_db_after, companies_db_after - companies_db_before))\n",
    "print('reports_length : %s'%reports_length)\n",
    "print('reports_db_before : %s'%reports_db_before)\n",
    "print('reports_db_after : %s (%s added)'%(reports_db_after, reports_db_after - reports_db_before))\n"
   ]
  },
  {
   "cell_type": "code",
   "execution_count": null,
   "metadata": {},
   "outputs": [],
   "source": []
  }
 ],
 "metadata": {
  "kernelspec": {
   "display_name": "Python 3",
   "language": "python",
   "name": "python3"
  },
  "language_info": {
   "codemirror_mode": {
    "name": "ipython",
    "version": 3
   },
   "file_extension": ".py",
   "mimetype": "text/x-python",
   "name": "python",
   "nbconvert_exporter": "python",
   "pygments_lexer": "ipython3",
   "version": "3.7.6"
  }
 },
 "nbformat": 4,
 "nbformat_minor": 4
}
